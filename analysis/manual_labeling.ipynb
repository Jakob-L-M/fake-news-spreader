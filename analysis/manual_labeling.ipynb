{
 "cells": [
  {
   "cell_type": "code",
   "execution_count": null,
   "id": "3d30ccb6",
   "metadata": {},
   "outputs": [],
   "source": [
    "import pandas as pd"
   ]
  },
  {
   "cell_type": "code",
   "execution_count": null,
   "id": "6203bec8",
   "metadata": {},
   "outputs": [],
   "source": [
    "# Loading data set\n",
    "df = pd.read_pickle('../data/reddit_corpus_balanced_filtered.gzip', compression='gzip')"
   ]
  },
  {
   "cell_type": "code",
   "execution_count": null,
   "id": "7342ba23",
   "metadata": {},
   "outputs": [],
   "source": [
    "# Loading automatic labels provided by Ezzeddine\n",
    "auto_labels = pd.read_csv('../data/three_models_predicted_correctly.csv')"
   ]
  },
  {
   "cell_type": "code",
   "execution_count": null,
   "id": "745bb0ed",
   "metadata": {},
   "outputs": [],
   "source": [
    "# Grouping doc_ids to their user_id\n",
    "auto_labels = auto_labels.groupby('user_id').agg(list).reset_index()"
   ]
  },
  {
   "cell_type": "code",
   "execution_count": null,
   "id": "118cf135",
   "metadata": {},
   "outputs": [],
   "source": [
    "# Calculating the number of correctly classified posts per user\n",
    "cc_factor = []\n",
    "for r in auto_labels.iterrows():\n",
    "    correctly_classified = len(r[1]['doc_id'])\n",
    "    labeld_posts = sum(df[df['user_id'] == r[1]['user_id']]['amounts'].to_numpy()[0])\n",
    "    cc_factor.append(correctly_classified/labeld_posts)\n",
    "auto_labels['cc'] = cc_factor"
   ]
  },
  {
   "cell_type": "code",
   "execution_count": null,
   "id": "557a9f15",
   "metadata": {},
   "outputs": [],
   "source": [
    "auto_labels"
   ]
  },
  {
   "cell_type": "code",
   "execution_count": null,
   "id": "1347dfc1",
   "metadata": {},
   "outputs": [],
   "source": [
    "df"
   ]
  }
 ],
 "metadata": {
  "kernelspec": {
   "display_name": "py3.8",
   "language": "python",
   "name": "py3.8"
  },
  "language_info": {
   "codemirror_mode": {
    "name": "ipython",
    "version": 3
   },
   "file_extension": ".py",
   "mimetype": "text/x-python",
   "name": "python",
   "nbconvert_exporter": "python",
   "pygments_lexer": "ipython3",
   "version": "3.8.6"
  }
 },
 "nbformat": 4,
 "nbformat_minor": 5
}
