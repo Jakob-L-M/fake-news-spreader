{
 "cells": [
  {
   "cell_type": "markdown",
   "id": "b4e90b46",
   "metadata": {},
   "source": [
    "# User Clustering\n",
    "\n",
    "This notebook is used to cluster users based on some vector representation. Additionaly can can calculate clusters based on temporal splits.\n",
    "\n",
    "To run the calcutation cell the notebook requires a pandas dataframe of the following structure:\n",
    "\n",
    "| user_id | fn_spreader | pol_bias | vector\n",
    "|-|-|-|-|\n",
    "USER_ID1| 0 | 1.21| [0.2,...,-0.1]\n",
    "USER_ID2| 1 | -0.34| [0.7,...,0.5]\n",
    "... | ... | ...\n",
    "\n",
    "Where fn_spreader is a binary variable, pol_bias is some float between [-3, 3] and the vector is a normalized vector of some dimension. The datafram without vectors can be found %LINK%. There are some cells below showing how you can add your own vectors.\n",
    "\n",
    "The clustering will append an additional column to the dataframe containing the cluster label. The function score_clustering(dataframe) will we return a score based on inter cluster similarity. The whole clustering gets a score based on the weighted mean of its clusters."
   ]
  },
  {
   "cell_type": "code",
   "execution_count": null,
   "id": "362d95fa",
   "metadata": {},
   "outputs": [],
   "source": [
    "import pandas as pd\n",
    "import pickle\n",
    "from sklearn.cluster import k_means"
   ]
  },
  {
   "cell_type": "code",
   "execution_count": null,
   "id": "6a1561d0",
   "metadata": {},
   "outputs": [],
   "source": [
    "df = pd.read_csv('../data/blank_user_frame.csv')\n",
    "df"
   ]
  },
  {
   "cell_type": "markdown",
   "id": "701a3c20",
   "metadata": {},
   "source": [
    "## Adding named entity vectors"
   ]
  },
  {
   "cell_type": "code",
   "execution_count": null,
   "id": "07e04eab",
   "metadata": {},
   "outputs": [],
   "source": [
    "with open('../data/named_entities.pickel', 'rb') as f:\n",
    "    user_entities = pickle.load(f)\n",
    "\n",
    "named_entities = ['ORG', 'PERSON', 'DATE', 'GPE','CARDINAL', 'NORP',\n",
    "                  'PERCENT', 'MONEY', 'ORDINAL', 'WORK_OF_ART', 'LOC',\n",
    "                 'TIME', 'LAW', 'PRODUCT', 'FAC', 'EVENT', 'QUANTITY',\n",
    "                 'LANGUAGE']\n",
    "\n",
    "vectors = []\n",
    "for user in df['user_id']:\n",
    "    \n",
    "    ents = user_entities[user]['all']\n",
    "    \n",
    "    # normalization\n",
    "    N = sum(ents.values())\n",
    "    \n",
    "    # preparing vector; 0 as default value\n",
    "    vector = [0]*len(named_entities)\n",
    "    \n",
    "    for ind, entity in enumerate(named_entities):\n",
    "        if entity in ents:\n",
    "            vector[ind] = ents[entity]/N\n",
    "    vectors.append(vector)\n",
    "\n",
    "df['vector'] = vectors\n",
    "df"
   ]
  },
  {
   "cell_type": "code",
   "execution_count": null,
   "id": "84ae833a",
   "metadata": {},
   "outputs": [],
   "source": []
  }
 ],
 "metadata": {
  "kernelspec": {
   "display_name": "py3.8",
   "language": "python",
   "name": "py3.8"
  },
  "language_info": {
   "codemirror_mode": {
    "name": "ipython",
    "version": 3
   },
   "file_extension": ".py",
   "mimetype": "text/x-python",
   "name": "python",
   "nbconvert_exporter": "python",
   "pygments_lexer": "ipython3",
   "version": "3.8.6"
  }
 },
 "nbformat": 4,
 "nbformat_minor": 5
}
