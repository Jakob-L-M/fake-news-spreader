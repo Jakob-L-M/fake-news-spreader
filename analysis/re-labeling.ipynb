{
 "cells": [
  {
   "cell_type": "code",
   "execution_count": null,
   "id": "d2baa9dc",
   "metadata": {},
   "outputs": [],
   "source": [
    "import pandas as pd\n",
    "import numpy as np\n",
    "import matplotlib.pyplot as plt\n",
    "\n",
    "from tqdm import tqdm"
   ]
  },
  {
   "cell_type": "code",
   "execution_count": null,
   "id": "4e971115",
   "metadata": {},
   "outputs": [],
   "source": [
    "df = pd.read_pickle('../data/reddit_corpus_balanced_filtered.gzip', compression='gzip')"
   ]
  },
  {
   "cell_type": "code",
   "execution_count": null,
   "id": "34f05044",
   "metadata": {},
   "outputs": [],
   "source": [
    "link_amounts = []\n",
    "\n",
    "for row in tqdm(df.iterrows(), desc='Evaluating Named Entities', total=len(df)):\n",
    "    data = row[1]\n",
    "    documents = data['documents']\n",
    "    user_id = data['user_id']\n",
    "    link_amount = [0, 0]\n",
    "    \n",
    "    for post in documents:\n",
    "        for link in post[4]:\n",
    "            # increase fn/rn count\n",
    "            link_amount[link[1]] += 1\n",
    "    \n",
    "    link_amounts.append(link_amount)\n",
    "\n",
    "df['link_amounts'] = link_amounts"
   ]
  },
  {
   "cell_type": "code",
   "execution_count": null,
   "id": "655580e0",
   "metadata": {},
   "outputs": [],
   "source": [
    "# removing users with less than 3 links\n",
    "mask = [sum(i) >= 3 for i in df['link_amounts']]\n",
    "print('Dropping', str(len(df)-sum(mask)), 'users')\n",
    "df = df[mask]"
   ]
  },
  {
   "cell_type": "code",
   "execution_count": null,
   "id": "65a1a4cb",
   "metadata": {},
   "outputs": [],
   "source": [
    "sum(df['fake_news_spreader'])/len(df)"
   ]
  },
  {
   "cell_type": "code",
   "execution_count": null,
   "id": "8f537a3e",
   "metadata": {},
   "outputs": [],
   "source": [
    "df['link_label'] = [int(2*(i[1])**(2)/sum(i) > 0.15) for i in df['link_amounts']]\n",
    "\n",
    "sum(df['link_label'])/len(df)"
   ]
  },
  {
   "cell_type": "code",
   "execution_count": null,
   "id": "e8952191",
   "metadata": {},
   "outputs": [],
   "source": [
    "plt.figure(figsize=(12,8))\n",
    "a, _c = np.unique(df['link_amounts'], return_counts=True)\n",
    "plt.scatter([i[0]+1 for i in a], [i[1]+1 for i in a], marker='o',\n",
    "            s=np.sqrt(_c)*15, c=[int(2*i[1]**(2)/sum(i) > 0.15) for i in a])\n",
    "plt.xscale('log')\n",
    "plt.yscale('log')\n",
    "plt.title('User labels based on link distribution')\n",
    "plt.grid(True)\n",
    "plt.ylabel('fake-news links (+1)')\n",
    "plt.xlabel('real-news links (+1)')\n",
    "plt.savefig('re-label-full-fn.pdf');"
   ]
  },
  {
   "cell_type": "code",
   "execution_count": null,
   "id": "873eff34",
   "metadata": {},
   "outputs": [],
   "source": [
    "a[np.argsort(c)[::-1]]"
   ]
  }
 ],
 "metadata": {
  "kernelspec": {
   "display_name": "py3.8",
   "language": "python",
   "name": "py3.8"
  },
  "language_info": {
   "codemirror_mode": {
    "name": "ipython",
    "version": 3
   },
   "file_extension": ".py",
   "mimetype": "text/x-python",
   "name": "python",
   "nbconvert_exporter": "python",
   "pygments_lexer": "ipython3",
   "version": "3.8.6"
  }
 },
 "nbformat": 4,
 "nbformat_minor": 5
}
