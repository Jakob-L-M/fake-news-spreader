{
 "cells": [
  {
   "cell_type": "code",
   "execution_count": null,
   "id": "f4f116a9",
   "metadata": {},
   "outputs": [],
   "source": [
    "import pickle\n",
    "import pandas as pd\n",
    "from tqdm import tqdm"
   ]
  },
  {
   "cell_type": "code",
   "execution_count": null,
   "id": "39449e1d",
   "metadata": {},
   "outputs": [],
   "source": [
    "df = pd.read_pickle('../data/reddit_corpus_balanced_filtered.gzip', compression='gzip')"
   ]
  },
  {
   "cell_type": "code",
   "execution_count": null,
   "id": "928e306c",
   "metadata": {},
   "outputs": [],
   "source": [
    "with open('../data/linguistic_features.pickel', 'rb') as f:\n",
    "    embeddings = pickle.load(f)"
   ]
  },
  {
   "cell_type": "code",
   "execution_count": null,
   "id": "d0b575bd",
   "metadata": {},
   "outputs": [],
   "source": [
    "temporal_embeddings = {}\n",
    "\n",
    "for row in tqdm(df.iterrows(), desc='Creating Temporal Splits', total=len(df)):\n",
    "    data = row[1]\n",
    "    documents = data['documents']\n",
    "    user_id = data['user_id']\n",
    "    \n",
    "    temporal_embeddings[user_id] = {}\n",
    "    \n",
    "    for doc_id, text, date, sub_reddit, labels in documents:\n",
    "        \n",
    "        if date.year < 2020 or (date.year == 2021 and date.month > 4):\n",
    "            continue\n",
    "        \n",
    "        month = str(date.year) + '-' + str(date.month)\n",
    "        \n",
    "        if month not in temporal_embeddings[user_id]:\n",
    "            temporal_embeddings[user_id][month] = {}\n",
    "        for i in embeddings[user_id][doc_id]:\n",
    "            if i not in temporal_embeddings[user_id][month]:\n",
    "                temporal_embeddings[user_id][month][i] = 0\n",
    "            temporal_embeddings[user_id][month][i] += embeddings[user_id][doc_id][i]"
   ]
  },
  {
   "cell_type": "code",
   "execution_count": null,
   "id": "860d9b85",
   "metadata": {},
   "outputs": [],
   "source": [
    "with open('../data/linguistic_features_temporal.pickel', 'wb') as f:\n",
    "    pickle.dump(temporal_embeddings, f)"
   ]
  }
 ],
 "metadata": {
  "kernelspec": {
   "display_name": "py3.8",
   "language": "python",
   "name": "py3.8"
  },
  "language_info": {
   "codemirror_mode": {
    "name": "ipython",
    "version": 3
   },
   "file_extension": ".py",
   "mimetype": "text/x-python",
   "name": "python",
   "nbconvert_exporter": "python",
   "pygments_lexer": "ipython3",
   "version": "3.8.6"
  }
 },
 "nbformat": 4,
 "nbformat_minor": 5
}
