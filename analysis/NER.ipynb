{
 "cells": [
  {
   "cell_type": "code",
   "execution_count": null,
   "id": "78fc0b1d",
   "metadata": {},
   "outputs": [],
   "source": [
    "import pandas as pd\n",
    "# import spacy\n",
    "import matplotlib.pyplot as plt\n",
    "from tqdm import tqdm\n",
    "\n",
    "# Disable all unused parts to boost the calculation\n",
    "#nlp = spacy.load('en_core_web_sm', disable=['parser', 'lemmatizer', 'tok2vec', 'attribute_ruler', 'senter', 'tagger'])"
   ]
  },
  {
   "cell_type": "code",
   "execution_count": null,
   "id": "9d5bf5e0",
   "metadata": {},
   "outputs": [],
   "source": [
    "df = pd.read_pickle('../data/reddit_corpus_balanced_filtered.gzip', compression='gzip')"
   ]
  },
  {
   "cell_type": "code",
   "execution_count": null,
   "id": "a649a2b1",
   "metadata": {},
   "outputs": [],
   "source": [
    "named_entities = {}\n",
    "for row in tqdm(df.iterrows(), desc='Evaluating Named Entities', total=len(df)):\n",
    "    data = row[1]\n",
    "    documents = data['documents']\n",
    "    user_id = data['user_id']\n",
    "    \n",
    "    named_entities[user_id] = {'all': {}}\n",
    "    \n",
    "    for doc_id, text, date, sub_reddit, labels in documents:\n",
    "            \n",
    "        doc = nlp(text)\n",
    "        named_entities[user_id][doc_id] = {}\n",
    "        for named_entity in doc.ents:\n",
    "            if named_entity.label_ not in named_entities[user_id][doc_id]:\n",
    "                named_entities[user_id][doc_id][named_entity.label_] = 0\n",
    "            named_entities[user_id][doc_id][named_entity.label_] += 1\n",
    "        \n",
    "        for ent in named_entities[user_id][doc_id]:\n",
    "            if ent not in named_entities[user_id]['all']:\n",
    "                named_entities[user_id]['all'][ent] = 0\n",
    "            named_entities[user_id]['all'][ent] += named_entities[user_id][doc_id][ent]"
   ]
  },
  {
   "cell_type": "code",
   "execution_count": null,
   "id": "a137e9a2",
   "metadata": {},
   "outputs": [],
   "source": [
    "import pickle\n",
    "\n",
    "with open('../data/named_entities.pickel', 'wb') as f:\n",
    "    pickle.dump(named_entities, f)"
   ]
  },
  {
   "cell_type": "code",
   "execution_count": null,
   "id": "e6d2eb7b",
   "metadata": {},
   "outputs": [],
   "source": [
    "import pickle\n",
    "\n",
    "with open('../data/named_entities.pickel', 'rb') as f:\n",
    "    named_entities = pickle.load(f)"
   ]
  },
  {
   "cell_type": "markdown",
   "id": "d185dee6",
   "metadata": {},
   "source": [
    "## Plots\n",
    "\n",
    "### Post level"
   ]
  },
  {
   "cell_type": "code",
   "execution_count": null,
   "id": "5bb3251e",
   "metadata": {},
   "outputs": [],
   "source": [
    "rn_entities = {'TOTAL': 0}\n",
    "fn_entities = {'TOTAL': 0}\n",
    "\n",
    "fn_users = {'TOTAL': 0}\n",
    "rn_users = {'TOTAL': 0}\n",
    "\n",
    "for row in tqdm(df.iterrows(), total=len(df)):\n",
    "    data = row[1]\n",
    "    documents = data['documents']\n",
    "    user_id = data['user_id']\n",
    "    fn = data['fake_news_spreader']\n",
    "    \n",
    "    for doc_id, text, date, sub_reddit, labels in documents:\n",
    "        \n",
    "        if fn == 0:\n",
    "            for ent in named_entities[user_id][doc_id]:\n",
    "                if ent not in rn_users:\n",
    "                    rn_users[ent] = 0\n",
    "                rn_users[ent] += named_entities[user_id][doc_id][ent]\n",
    "                rn_users['TOTAL'] += named_entities[user_id][doc_id][ent]\n",
    "        else:\n",
    "            for ent in named_entities[user_id][doc_id]:\n",
    "                if ent not in rn_users:\n",
    "                    fn_users[ent] = 0\n",
    "                fn_users[ent] += named_entities[user_id][doc_id][ent]\n",
    "                fn_users['TOTAL'] += named_entities[user_id][doc_id][ent]\n",
    "        \n",
    "        if len(labels) == 1:\n",
    "            if labels[0][1] == 0:\n",
    "                for ent in named_entities[user_id][doc_id]:\n",
    "                    if ent not in rn_entities:\n",
    "                        rn_entities[ent] = 0\n",
    "                    rn_entities[ent] += named_entities[user_id][doc_id][ent]\n",
    "                    rn_entities['TOTAL'] += named_entities[user_id][doc_id][ent]\n",
    "            else:\n",
    "                for ent in named_entities[user_id][doc_id]:\n",
    "                    if ent not in fn_entities:\n",
    "                        fn_entities[ent] = 0\n",
    "                    fn_entities[ent] += named_entities[user_id][doc_id][ent]\n",
    "                    fn_entities['TOTAL'] += named_entities[user_id][doc_id][ent]\n"
   ]
  },
  {
   "cell_type": "code",
   "execution_count": null,
   "id": "2eb0a33a",
   "metadata": {},
   "outputs": [],
   "source": [
    "entities = sorted(list(set([i for i in (list(rn_entities.keys()) + list(fn_entities.keys())) if i != 'TOTAL'])), key=lambda x: rn_entities[x], reverse=True)\n",
    "for i, e in enumerate(entities):\n",
    "    plt.bar(x=2*i-0.3, width=0.45, height=rn_entities[e]/rn_entities['TOTAL'], color='steelblue')\n",
    "    plt.bar(x=2*i+0.3, width=0.45, height=fn_entities[e]/fn_entities['TOTAL'], color='darkred')\n",
    "plt.xticks([i for i in range(0,2*len(entities), 2)], list(entities), rotation=90)\n",
    "plt.legend(['Real News Posts', 'Fake News Posts'])\n",
    "plt.ylabel('Density of Named Entitiy')\n",
    "plt.yticks([i/1000 for i in range(25, 260, 25)], ['{:2}%'.format(i/10) for i in range(25, 260, 25)])\n",
    "plt.ylim(0, 0.275)\n",
    "plt.title('Named Entities in Real- and Fake-News Posts');\n",
    "plt.savefig('../visualization/overview/NER_posts.pdf', bbox_inches='tight')\n",
    "plt.savefig('../visualization/overview/NER_posts.png', bbox_inches='tight')"
   ]
  },
  {
   "cell_type": "code",
   "execution_count": null,
   "id": "4c38488d",
   "metadata": {},
   "outputs": [],
   "source": [
    "#entities = set([i for i in (list(rn_users.keys()) + list(fn_users.keys())) if i != 'TOTAL'])\n",
    "for i, e in enumerate(entities):\n",
    "    plt.bar(x=2*i-0.3, width=0.45, height=rn_users[e]/rn_users['TOTAL'], color='steelblue')\n",
    "    plt.bar(x=2*i+0.3, width=0.45, height=fn_users[e]/fn_users['TOTAL'], color='darkred')\n",
    "plt.xticks([i for i in range(0,2*len(entities), 2)], list(entities), rotation=90)\n",
    "plt.legend(['Real News Users', 'Fake News Users'])\n",
    "plt.ylabel('Density of Named Entitiy')\n",
    "plt.yticks([i/1000 for i in range(25, 260, 25)], ['{:2}%'.format(i/10) for i in range(25, 260, 25)])\n",
    "plt.ylim(0, 0.275)\n",
    "plt.title('Named Entities from Real- and Fake-News Spreaders');\n",
    "plt.savefig('../visualization/overview/NER_users.pdf', bbox_inches='tight')\n",
    "plt.savefig('../visualization/overview/NER_users.png', bbox_inches='tight')"
   ]
  }
 ],
 "metadata": {
  "kernelspec": {
   "display_name": "py3.8",
   "language": "python",
   "name": "py3.8"
  },
  "language_info": {
   "codemirror_mode": {
    "name": "ipython",
    "version": 3
   },
   "file_extension": ".py",
   "mimetype": "text/x-python",
   "name": "python",
   "nbconvert_exporter": "python",
   "pygments_lexer": "ipython3",
   "version": "3.8.6"
  }
 },
 "nbformat": 4,
 "nbformat_minor": 5
}
