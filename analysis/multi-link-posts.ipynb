{
 "cells": [
  {
   "cell_type": "code",
   "execution_count": null,
   "id": "eee5e4b0",
   "metadata": {},
   "outputs": [],
   "source": [
    "import pandas as pd\n",
    "import numpy as np\n",
    "import matplotlib.pyplot as plt\n",
    "from tqdm import tqdm"
   ]
  },
  {
   "cell_type": "code",
   "execution_count": null,
   "id": "13931657",
   "metadata": {},
   "outputs": [],
   "source": [
    "df = pd.read_pickle('../data/reddit_corpus_balanced_filtered.gzip', compression='gzip')"
   ]
  },
  {
   "cell_type": "code",
   "execution_count": null,
   "id": "30febcd0",
   "metadata": {},
   "outputs": [],
   "source": [
    "multi_links = {}\n",
    "\n",
    "for row in tqdm(df.iterrows(), desc='Getting multi link posts', total=len(df)):\n",
    "    \n",
    "    data = row[1]\n",
    "    documents = data['documents']\n",
    "    user_id = data['user_id']\n",
    "    \n",
    "    dic = {'fn': data['fake_news_spreader'], 'amounts': data['amounts'], 'multi-posts': {}}\n",
    "    multi_post_amounts = [0, 0]\n",
    "    \n",
    "    for doc_id, text, date, sub_reddit, labels in documents:\n",
    "        \n",
    "        if len(labels) > 1:\n",
    "            dic['multi-posts'][doc_id] = labels\n",
    "            for label in labels:\n",
    "                multi_post_amounts[label[1]] += 1\n",
    "            \n",
    "    if len(dic['multi-posts']) > 0:\n",
    "        dic['multi-post_amounts'] = multi_post_amounts\n",
    "        dic['num_docs'] = data['num_docs']\n",
    "        multi_links[user_id] = dic\n",
    "    "
   ]
  },
  {
   "cell_type": "code",
   "execution_count": null,
   "id": "7da4a482",
   "metadata": {},
   "outputs": [],
   "source": [
    "# Would a user change to rn-spreader, if we remove multi-link posts?\n",
    "changed_users = {}\n",
    "\n",
    "for user in multi_links:\n",
    "    \n",
    "    user_amounts = multi_links[user]['amounts']\n",
    "    \n",
    "    # skip rn spreaders\n",
    "    if user_amounts[1] == 0:\n",
    "        continue\n",
    "    \n",
    "    fn_amount = 0\n",
    "    \n",
    "    for post in multi_links[user]['multi-posts']:\n",
    "        for label in multi_links[user]['multi-posts'][post]:\n",
    "            if label[1] == 1:\n",
    "                fn_amount += 1\n",
    "                break\n",
    "    \n",
    "    if user_amounts[1] - fn_amount == 0:\n",
    "        changed_users[user] = user_amounts + (multi_links[user]['num_docs'], 0)\n",
    "\n",
    "# in total 198 users are left with no more fn posts\n",
    "len(changed_users)"
   ]
  },
  {
   "cell_type": "code",
   "execution_count": null,
   "id": "3452b8fb",
   "metadata": {},
   "outputs": [],
   "source": [
    "changed_users"
   ]
  },
  {
   "cell_type": "code",
   "execution_count": null,
   "id": "341a051c",
   "metadata": {},
   "outputs": [],
   "source": [
    "info = np.array(list(changed_users.values())).T\n",
    "\n",
    "#plt.figure(figsize=(13,9))\n",
    "fig, ax = plt.subplots()\n",
    "cax = fig.add_axes([0.95, 0.1, 0.05, 0.8])\n",
    "\n",
    "plot = ax.scatter(info[0], info[1], marker='x', c=np.log(info[2]), s=60)\n",
    "ax.set_xscale('log')\n",
    "ax.set_yscale('log')\n",
    "ax.set_title('All 198 users that changed to rn-spreaders\\nwhen disregarding multi-link posts')\n",
    "ax.set_ylabel('Number of fn-post with multilinks')\n",
    "ax.set_xlabel('Number of rn-posts');\n",
    "\n",
    "cbar = fig.colorbar(plot, cax=cax, orientation='vertical')\n",
    "\n",
    "cbar.ax.set_yticklabels([int(np.exp(i)) for i in cbar.get_ticks().tolist()])\n",
    "cbar.set_label('Number of total posts', rotation=270, labelpad=18)\n",
    "\n",
    "plt.savefig('mulit-link-changes.pdf', bbox_inches='tight')"
   ]
  },
  {
   "cell_type": "code",
   "execution_count": null,
   "id": "d46d568e",
   "metadata": {},
   "outputs": [],
   "source": [
    "# looking at users that had only one fn-multi-link-post.\n",
    "# What is the distrbution of fn-and-rn links in these posts?\n",
    "num_rn_links = []\n",
    "num_fn_links = []\n",
    "\n",
    "for user in changed_users:\n",
    "    \n",
    "    # counter for links\n",
    "    fn = 0\n",
    "    rn = 0\n",
    "    \n",
    "    # check that only one multi-link post is fake-news\n",
    "#     if changed_users[user][1] != 1:\n",
    "#         continue\n",
    "    \n",
    "    \n",
    "    # collect the number of real and fake news links\n",
    "    for post in multi_links[user]['multi-posts']:\n",
    "        for label in multi_links[user]['multi-posts'][post]:\n",
    "            if label[1] == 1:\n",
    "                fn += 1\n",
    "            else:\n",
    "                rn += 1\n",
    "    # \n",
    "    num_fn_links.append(fn)\n",
    "    num_rn_links.append(rn)\n",
    "\n",
    "plt.scatter(num_rn_links, num_fn_links, marker='x', s=60)\n",
    "plt.xscale('log')\n",
    "plt.title('Relation of fn- and rn-links\\nin multi link posts of changed users')\n",
    "plt.ylabel('Number of fn-links')\n",
    "plt.xlabel('Number of rn-links')\n",
    "plt.savefig('links-of-channged-users.pdf', bbox_inches='tight')"
   ]
  }
 ],
 "metadata": {
  "kernelspec": {
   "display_name": "py3.8",
   "language": "python",
   "name": "py3.8"
  },
  "language_info": {
   "codemirror_mode": {
    "name": "ipython",
    "version": 3
   },
   "file_extension": ".py",
   "mimetype": "text/x-python",
   "name": "python",
   "nbconvert_exporter": "python",
   "pygments_lexer": "ipython3",
   "version": "3.8.6"
  }
 },
 "nbformat": 4,
 "nbformat_minor": 5
}
