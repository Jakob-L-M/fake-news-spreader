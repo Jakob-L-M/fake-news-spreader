{
 "cells": [
  {
   "cell_type": "code",
   "execution_count": null,
   "id": "d2baa9dc",
   "metadata": {},
   "outputs": [],
   "source": [
    "import pandas as pd\n",
    "import numpy as np\n",
    "\n",
    "from tqdm import tqdm"
   ]
  },
  {
   "cell_type": "code",
   "execution_count": null,
   "id": "4e971115",
   "metadata": {},
   "outputs": [],
   "source": [
    "df = pd.read_pickle('../data/reddit_corpus_balanced_filtered.gzip', compression='gzip')"
   ]
  },
  {
   "cell_type": "code",
   "execution_count": null,
   "id": "46df9e9b",
   "metadata": {},
   "outputs": [],
   "source": [
    "topic_groups = {}\n",
    "topic_groups['SARS-CoV-2'] = ['r/CovidVaccinated', 'r/Masks4All', 'r/NoLockdownsNoMasks', 'r/EndTheLockdowns', 'r/COVID19', 'r/COVID19positive', 'r/CoronavirusCanada', 'r/CoronavirusRecession', 'r/CoronavirusUK', 'r/CoronavirusUS', 'r/Coronavirus', 'r/LockdownSkepticism', 'r/NoNewNormal']\n",
    "topic_groups['Vaccines'] = ['r/CovidVaccinated', 'r/VACCINES', 'r/vaxxhappened', 'r/AntiVaxxers', 'r/antivax', 'r/TrueAntiVaccination', 'r/DebateVaccine', 'r/DebateVaccines']\n",
    "topic_groups['Abortion'] = ['r/AskProchoice', 'r/prochoice', 'r/insaneprolife', 'r/prolife', 'r/ProLifeLibertarians', 'r/Abortiondebate', 'r/abortion']\n",
    "topic_groups['womens-and-mens-rights'] = ['r/Feminism', 'r/feminisms', 'r/RadicalFeminism', 'r/RadicalFeminismUSA', 'r/MRActivism', 'r/MensRights', 'r/antifeminists', 'r/feminismformen', 'r/masculism', 'r/GenderCritical', 'r/Egalitarianism']\n",
    "topic_groups['Gun-control'] = ['r/Firearms', 'r/GunsAreCool', 'r/liberalgunowners', 'r/progun', 'r/guncontrol', 'r/GunDebates', 'r/GunResearch', 'r/gunpolitics']\n",
    "topic_groups['Climate-change'] = ['r/climateskeptics', 'r/GlobalClimateChange', 'r/climate', 'r/climatechange']\n",
    "topic_groups['5G'] = ['r/5GDebate']\n",
    "topic_groups['general-political-debate'] = ['r/JoeBiden', 'r/LeftistsForMen', 'r/Liberal', 'r/LockdownCriticalLeft', 'r/democrats', 'r/Conservative', 'r/ConservativesOnly', 'r/conservatives', 'r/Republican', 'r/RepublicanValues', 'r/politics', 'r/uspolitics', 'r/Impeach_Trump']\n",
    "\n",
    "# building inverse topic groups\n",
    "inv_topic_groups = {}\n",
    "for t_id, topic in enumerate(topic_groups):\n",
    "    for sub in topic_groups[topic]:\n",
    "        inv_topic_groups[sub] = (t_id, topic)"
   ]
  },
  {
   "cell_type": "code",
   "execution_count": null,
   "id": "34f05044",
   "metadata": {},
   "outputs": [],
   "source": [
    "user_subs = []\n",
    "\n",
    "for row in tqdm(df.iterrows(), desc='Evaluating Named Entities', total=len(df)):\n",
    "    data = row[1]\n",
    "    documents = data['documents']\n",
    "    user_id = data['user_id']\n",
    "    subs = [0]*len(topic_groups)\n",
    "    \n",
    "    for post in documents:\n",
    "        if post[3] in inv_topic_groups:\n",
    "            subs[inv_topic_groups[post[3]][0]] += 1\n",
    "    \n",
    "    user_subs.append(subs)\n",
    "\n",
    "df['topics'] = user_subs"
   ]
  },
  {
   "cell_type": "code",
   "execution_count": null,
   "id": "7a963a84",
   "metadata": {},
   "outputs": [],
   "source": [
    "print(set(inv_topic_groups.values()))\n",
    "df['topics'].head(20)"
   ]
  },
  {
   "cell_type": "code",
   "execution_count": null,
   "id": "655580e0",
   "metadata": {},
   "outputs": [],
   "source": [
    "blank_df = df.copy()\n",
    "blank_df = blank_df.iloc[:,[0,1,5,6,7,9,12,15,16]]\n",
    "blank_df.to_csv('../data/blank_user_frame.csv', index=False, sep=';')\n",
    "blank_df"
   ]
  }
 ],
 "metadata": {
  "kernelspec": {
   "display_name": "py3.8",
   "language": "python",
   "name": "py3.8"
  },
  "language_info": {
   "codemirror_mode": {
    "name": "ipython",
    "version": 3
   },
   "file_extension": ".py",
   "mimetype": "text/x-python",
   "name": "python",
   "nbconvert_exporter": "python",
   "pygments_lexer": "ipython3",
   "version": "3.8.6"
  }
 },
 "nbformat": 4,
 "nbformat_minor": 5
}
