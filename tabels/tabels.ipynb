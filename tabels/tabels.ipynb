{
 "cells": [
  {
   "cell_type": "code",
   "execution_count": null,
   "id": "87f40196",
   "metadata": {},
   "outputs": [],
   "source": [
    "import pandas as pd\n",
    "from tqdm import tqdm\n",
    "import pickle"
   ]
  },
  {
   "cell_type": "code",
   "execution_count": null,
   "id": "ebe1296e",
   "metadata": {},
   "outputs": [],
   "source": [
    "df = pd.read_pickle('../data/reddit_corpus_balanced_filtered.gzip', compression='gzip')"
   ]
  },
  {
   "cell_type": "code",
   "execution_count": null,
   "id": "53e44496",
   "metadata": {},
   "outputs": [],
   "source": [
    "sub_reddits = {\n",
    "    'r/CovidVaccinated': 0,\n",
    "    'r/Masks4All': 0,\n",
    "    'r/NoLockdownsNoMasks': 0,\n",
    "    'r/EndTheLockdowns': 0,\n",
    "    'r/COVID19': 0,\n",
    "    'r/COVID19positive': 0,\n",
    "    'r/CoronavirusCanada': 0,\n",
    "    'r/CoronavirusRecession': 0,\n",
    "    'r/CoronavirusUK': 0,\n",
    "    'r/CoronavirusUS': 0,\n",
    "    'r/Coronavirus': 0,\n",
    "    'r/LockdownSkepticism': 0,\n",
    "    'r/NoNewNormal': 0,\n",
    "    'r/CovidVaccinated': 0,\n",
    "    'r/VACCINES': 0,\n",
    "    'r/vaxxhappened': 0,\n",
    "    'r/AntiVaxxers': 0,\n",
    "    'r/antivax': 0,\n",
    "    'r/TrueAntiVaccination': 0,\n",
    "    'r/DebateVaccine': 0,\n",
    "    'r/DebateVaccines': 0,\n",
    "    'r/AskProchoice': 0,\n",
    "    'r/prochoice': 0,\n",
    "    'r/insaneprolife': 0,\n",
    "    'r/prolife': 0,\n",
    "    'r/ProLifeLibertarians': 0,\n",
    "    'r/Abortiondebate': 0,\n",
    "    'r/abortion': 0,\n",
    "    'r/Feminism': 0,\n",
    "    'r/feminisms': 0,\n",
    "    'r/RadicalFeminism': 0,\n",
    "    'r/RadicalFeminismUSA': 0,\n",
    "    'r/MRActivism': 0,\n",
    "    'r/MensRights': 0,\n",
    "    'r/antifeminists': 0,\n",
    "    'r/feminismformen': 0,\n",
    "    'r/masculism': 0,\n",
    "    'r/GenderCritical': 0,\n",
    "    'r/Egalitarianism': 0,\n",
    "    'r/Firearms': 0,\n",
    "    'r/GunsAreCool': 0,\n",
    "    'r/liberalgunowners': 0,\n",
    "    'r/progun': 0,\n",
    "    'r/guncontrol': 0,\n",
    "    'r/GunDebates': 0,\n",
    "    'r/GunResearch': 0,\n",
    "    'r/gunpolitics': 0,\n",
    "    'r/climateskeptics': 0,\n",
    "    'r/GlobalClimateChange': 0,\n",
    "    'r/climate': 0,\n",
    "    'r/climatechange': 0,\n",
    "    'r/5GDebate': 0,\n",
    "    'r/JoeBiden': 0,\n",
    "    'r/LeftistsForMen': 0,\n",
    "    'r/Liberal': 0,\n",
    "    'r/LockdownCriticalLeft': 0,\n",
    "    'r/democrats': 0,\n",
    "    'r/Conservative': 0,\n",
    "    'r/ConservativesOnly': 0,\n",
    "    'r/conservatives': 0,\n",
    "    'r/Republican': 0,\n",
    "    'r/RepublicanValues': 0,\n",
    "    'r/politics': 0,\n",
    "    'r/uspolitics': 0,\n",
    "    'r/Impeach_Trump': 0\n",
    "}"
   ]
  },
  {
   "cell_type": "code",
   "execution_count": null,
   "id": "0865b69e",
   "metadata": {},
   "outputs": [],
   "source": [
    "user_posts = {}\n",
    "for row in tqdm(df.iterrows(), total=len(df)):\n",
    "    data = row[1]\n",
    "    documents = data['documents']\n",
    "    user_id = data['user_id']\n",
    "    user_posts[user_id] = sub_reddits.copy()\n",
    "    for doc_id, text, date, sub_reddit, labels in documents:\n",
    "        if sub_reddit == 'r/offmychest':\n",
    "            continue\n",
    "        user_posts[user_id][sub_reddit] += 1\n",
    "        \n",
    "# Verfy\n",
    "for user in tqdm(df['user_id']):\n",
    "    posts = df[df['user_id'] == user]['num_docs'].to_numpy()[0]\n",
    "    if posts != sum(user_posts[user].values()):\n",
    "        # We expect one for the 'offmychest' post\n",
    "        print('ERROR at user:', user)"
   ]
  },
  {
   "cell_type": "code",
   "execution_count": null,
   "id": "b9e94748",
   "metadata": {},
   "outputs": [],
   "source": [
    "file_to_store = open('user_subreddits.pkl', 'wb')\n",
    "pickle.dump(user_posts, file_to_store)\n",
    "file_to_store.close()"
   ]
  },
  {
   "cell_type": "code",
   "execution_count": null,
   "id": "b8a31475",
   "metadata": {},
   "outputs": [],
   "source": []
  }
 ],
 "metadata": {
  "kernelspec": {
   "display_name": "py3.8",
   "language": "python",
   "name": "py3.8"
  },
  "language_info": {
   "codemirror_mode": {
    "name": "ipython",
    "version": 3
   },
   "file_extension": ".py",
   "mimetype": "text/x-python",
   "name": "python",
   "nbconvert_exporter": "python",
   "pygments_lexer": "ipython3",
   "version": "3.8.6"
  }
 },
 "nbformat": 4,
 "nbformat_minor": 5
}
