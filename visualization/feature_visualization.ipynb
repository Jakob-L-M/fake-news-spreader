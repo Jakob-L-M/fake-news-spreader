{
 "cells": [
  {
   "cell_type": "code",
   "execution_count": null,
   "id": "19a2fedf",
   "metadata": {},
   "outputs": [],
   "source": [
    "import pandas as pd\n",
    "import torch\n",
    "import matplotlib.pyplot as plt\n",
    "import os\n",
    "import tensorflow as tf\n",
    "import numpy as np\n",
    "import pickle\n",
    "from tensorboard.plugins import projector"
   ]
  },
  {
   "cell_type": "code",
   "execution_count": null,
   "id": "f7772924",
   "metadata": {},
   "outputs": [],
   "source": [
    "theme_groups = {}\n",
    "theme_groups['SARS-CoV-2'] = ['r/CovidVaccinated', 'r/Masks4All', 'r/NoLockdownsNoMasks', 'r/EndTheLockdowns', 'r/COVID19', 'r/COVID19positive', 'r/CoronavirusCanada', 'r/CoronavirusRecession', 'r/CoronavirusUK', 'r/CoronavirusUS', 'r/Coronavirus', 'r/LockdownSkepticism', 'r/NoNewNormal']\n",
    "theme_groups['Vaccines'] = ['r/CovidVaccinated', 'r/VACCINES', 'r/vaxxhappened', 'r/AntiVaxxers', 'r/antivax', 'r/TrueAntiVaccination', 'r/DebateVaccine', 'r/DebateVaccines']\n",
    "theme_groups['Abortion'] = ['r/AskProchoice', 'r/prochoice', 'r/insaneprolife', 'r/prolife', 'r/ProLifeLibertarians', 'r/Abortiondebate', 'r/abortion']\n",
    "theme_groups['womens-and-mens-rights'] = ['r/Feminism', 'r/feminisms', 'r/RadicalFeminism', 'r/RadicalFeminismUSA', 'r/MRActivism', 'r/MensRights', 'r/antifeminists', 'r/feminismformen', 'r/masculism', 'r/GenderCritical', 'r/Egalitarianism']\n",
    "theme_groups['Gun-control'] = ['r/Firearms', 'r/GunsAreCool', 'r/liberalgunowners', 'r/progun', 'r/guncontrol', 'r/GunDebates', 'r/GunResearch', 'r/gunpolitics']\n",
    "theme_groups['Climate-change'] = ['r/climateskeptics', 'r/GlobalClimateChange', 'r/climate', 'r/climatechange']\n",
    "theme_groups['5G'] = ['r/5GDebate']\n",
    "theme_groups['general-political-debate'] = ['r/JoeBiden', 'r/LeftistsForMen', 'r/Liberal', 'r/LockdownCriticalLeft', 'r/democrats', 'r/Conservative', 'r/ConservativesOnly', 'r/conservatives', 'r/Republican', 'r/RepublicanValues', 'r/politics', 'r/uspolitics', 'r/Impeach_Trump']\n",
    "\n",
    "inverse_theme_groups = {}\n",
    "for theme in theme_groups:\n",
    "    for sub in theme_groups[theme]:\n",
    "        inverse_theme_groups[sub] = theme"
   ]
  },
  {
   "cell_type": "code",
   "execution_count": null,
   "id": "860cc692",
   "metadata": {},
   "outputs": [],
   "source": [
    "users_embeddings = {}\n",
    "liwc_frame = pd.read_pickle('../data/new_static_LIWC_features.pkl')\n",
    "for index, row in liwc_frame.iterrows():\n",
    "       users_embeddings[index] = torch.tensor(row.values)\n",
    "            \n",
    "personality_frame = pd.read_pickle('../data/new_static_personality_features.pkl')\n",
    "for index, row in personality_frame.iterrows():\n",
    "        v = users_embeddings[index]\n",
    "        users_embeddings[index] = [torch.cat((v, torch.tensor(row.values)))]       \n",
    "        \n",
    "df = pd.read_pickle('../data/reddit_corpus_balanced_filtered.gzip', compression='gzip')"
   ]
  },
  {
   "cell_type": "code",
   "execution_count": null,
   "id": "0aa7ef35",
   "metadata": {},
   "outputs": [],
   "source": [
    "user_subreddits = pd.read_pickle('../data/user_subreddits.pkl')\n",
    "label_info = {}\n",
    "\n",
    "for user in users_embeddings:\n",
    "    label_info[user] = {}\n",
    "    d = df[df['user_id'] == user]\n",
    "    label_info[user]['fake_news'] = str(d['fake_news_spreader'].to_numpy()[0])\n",
    "    if d['pb_factor'].to_numpy()[0] < 4:\n",
    "        label_info[user]['pb_factor'] = str(round(d['pb_factor'].to_numpy()[0]))\n",
    "    else:\n",
    "        label_info[user]['pb_factor'] = '4'\n",
    "    if d['factual_factor'].to_numpy()[0] < 4:\n",
    "        label_info[user]['factual_factor'] = str(round(d['factual_factor'].to_numpy()[0]))\n",
    "    else:\n",
    "        label_info[user]['factual_factor'] = '4'\n",
    "    \n",
    "    user_dic = user_subreddits[user]\n",
    "    groups = {'SARS-CoV-2': 0, 'Vaccines': 0, 'Abortion': 0, 'womens-and-mens-rights': 0, 'Gun-control': 0, 'Climate-change': 0, '5G': 0, 'general-political-debate': 0}\n",
    "    for sub in user_dic:\n",
    "        groups[inverse_theme_groups[sub]] += user_dic[sub]\n",
    "    \n",
    "    groups = dict(sorted(groups.items(), key=lambda item: item[1], reverse=True))\n",
    "    label_info[user]['group'] = list(groups.keys())[0]"
   ]
  },
  {
   "cell_type": "code",
   "execution_count": null,
   "id": "3fde7c55",
   "metadata": {},
   "outputs": [],
   "source": [
    "labels = [user + '\\t' + label_info[user]['fake_news'] + '\\t' + label_info[user]['pb_factor'] + '\\t' + label_info[user]['factual_factor'] + '\\t' + label_info[user]['group'] for user in users_embeddings]\n",
    "tensors = np.array([i[0].numpy() for i in list(users_embeddings.values())])\n",
    "\n",
    "log_dir = './embeddings/user_features/'\n",
    "\n",
    "if not os.path.isdir(log_dir):\n",
    "    os.makedirs(log_dir)\n",
    "\n",
    "# Save Labels separately on a line-by-line manner.\n",
    "with open(os.path.join(log_dir, 'metadata.tsv'), \"w\", encoding='utf-8') as f:\n",
    "    f.write(\"User\\tNews\\tpb_f\\tfac_f\\tgroup\\n\")\n",
    "    for subwords in labels:\n",
    "        f.write(\"{}\\n\".format(subwords))\n",
    "\n",
    "# Save the weights we want to analyze as a variable. Note that the first\n",
    "# value represents any unknown word, which is not in the metadata, here\n",
    "# we will remove this value.\n",
    "weights = tf.Variable(tensors)\n",
    "# Create a checkpoint from embedding, the filename and key are the\n",
    "# name of the tensor.\n",
    "checkpoint = tf.train.Checkpoint(embedding=weights)\n",
    "checkpoint.save(os.path.join(log_dir, \"embedding.ckpt\"))\n",
    "\n",
    "# Set up config.\n",
    "config = projector.ProjectorConfig()\n",
    "embedding = config.embeddings.add()\n",
    "# The name of the tensor will be suffixed by `/.ATTRIBUTES/VARIABLE_VALUE`.\n",
    "embedding.tensor_name = 'embedding/.ATTRIBUTES/VARIABLE_VALUE'\n",
    "embedding.metadata_path = 'metadata.tsv'\n",
    "projector.visualize_embeddings(log_dir, config)"
   ]
  },
  {
   "cell_type": "code",
   "execution_count": null,
   "id": "bc19c2c5",
   "metadata": {},
   "outputs": [],
   "source": [
    "path = (os.path.abspath('.') + log_dir).replace('\\\\', '/')\n",
    "print(\"tensorboard --logdir\", path)"
   ]
  },
  {
   "cell_type": "code",
   "execution_count": null,
   "id": "d9546073",
   "metadata": {},
   "outputs": [],
   "source": []
  },
  {
   "cell_type": "code",
   "execution_count": null,
   "id": "e6f1d4b9",
   "metadata": {},
   "outputs": [],
   "source": [
    "user_subreddits = pd.read_pickle('../data/user_subreddits.pkl')\n",
    "for user in user_subreddits:\n",
    "    user_dic = user_subreddits[user]\n",
    "    groups = {'SARS-CoV-2': 0, 'Vaccines': 0, 'Abortion': 0, 'womens-and-mens-rights': 0, 'Gun-control': 0, 'Climate-change': 0, '5G': 0, 'general-political-debate': 0}\n",
    "    for sub in user_dic:\n",
    "        groups[inverse_theme_groups[sub]] += user_dic[sub]\n",
    "    \n",
    "    groups = dict(sorted(groups.items(), key=lambda item: item[1], reverse=True))\n",
    "    print(user, list(groups.keys())[0])\n",
    "    break"
   ]
  },
  {
   "cell_type": "code",
   "execution_count": null,
   "id": "0ba94e41",
   "metadata": {},
   "outputs": [],
   "source": [
    "label_info['ddf62a134f09db7a6056190d594bd41ff2f4cf04faf5db32406bbec473f46935']"
   ]
  }
 ],
 "metadata": {
  "kernelspec": {
   "display_name": "py3.8",
   "language": "python",
   "name": "py3.8"
  },
  "language_info": {
   "codemirror_mode": {
    "name": "ipython",
    "version": 3
   },
   "file_extension": ".py",
   "mimetype": "text/x-python",
   "name": "python",
   "nbconvert_exporter": "python",
   "pygments_lexer": "ipython3",
   "version": "3.8.6"
  }
 },
 "nbformat": 4,
 "nbformat_minor": 5
}
