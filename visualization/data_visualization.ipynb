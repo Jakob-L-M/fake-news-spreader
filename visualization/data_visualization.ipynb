{
 "cells": [
  {
   "cell_type": "code",
   "execution_count": null,
   "id": "d018fcb2",
   "metadata": {},
   "outputs": [],
   "source": [
    "import pandas as pd\n",
    "import matplotlib.pyplot as plt\n",
    "import gc"
   ]
  },
  {
   "cell_type": "code",
   "execution_count": null,
   "id": "29d48b6e",
   "metadata": {},
   "outputs": [],
   "source": [
    "df = pd.read_pickle('../data/reddit_corpus_balanced_filtered.gzip', compression='gzip')"
   ]
  },
  {
   "cell_type": "code",
   "execution_count": null,
   "id": "29ad7a82",
   "metadata": {},
   "outputs": [],
   "source": [
    "# Creating dictionary for theme groups\n",
    "theme_groups = {}\n",
    "theme_groups['SARS-CoV-2'] = ['r/CovidVaccinated', 'r/Masks4All', 'r/NoLockdownsNoMasks', 'r/EndTheLockdowns', 'r/COVID19', 'r/COVID19positive', 'r/CoronavirusCanada', 'r/CoronavirusRecession', 'r/CoronavirusUK', 'r/CoronavirusUS', 'r/Coronavirus', 'r/LockdownSkepticism']\n",
    "theme_groups['Vaccines'] = ['r/CovidVaccinated', 'r/VACCINES', 'r/vaxxhappened', 'r/AntiVaxxers', 'r/antivax', 'r/TrueAntiVaccination', 'r/DebateVaccine', 'r/DebateVaccines']\n",
    "theme_groups['Abortion'] = ['r/AskProchoice', 'r/prochoice', 'r/insaneprolife', 'r/prolife', 'r/ProLifeLibertarians', 'r/Abortiondebate', 'r/abortion']\n",
    "theme_groups['womens-and-mens-rights'] = ['r/Feminism', 'r/feminisms', 'r/RadicalFeminism', 'r/RadicalFeminismUSA', 'r/MRActivism', 'r/MensRights', 'r/antifeminists', 'r/feminismformen', 'r/masculism', 'r/GenderCritical', 'r/Egalitarianism']\n",
    "theme_groups['Gun-control'] = ['r/Firearms', 'r/GunsAreCool', 'r/liberalgunowners', 'r/progun', 'r/guncontrol', 'r/GunDebates', 'r/GunResearch', 'r/gunpolitics']\n",
    "theme_groups['Climate-change'] = ['r/climateskeptics', 'r/GlobalClimateChange', 'r/climate', 'r/climatechange']\n",
    "theme_groups['5G'] = ['r/5GDebate']\n",
    "theme_groups['general-political-debate'] = ['r/JoeBiden', 'r/LeftistsForMen', 'r/Liberal', 'r/LockdownCriticalLeft', 'r/democrats', 'r/Conservative', 'r/ConservativesOnly', 'r/conservatives', 'r/Republican', 'r/RepublicanValues', 'r/politics', 'r/uspolitics']\n",
    "\n",
    "# !ProLifeLibertarians is missing any labled data\n",
    "\n",
    "#theme_groups"
   ]
  },
  {
   "cell_type": "code",
   "execution_count": null,
   "id": "56ac9e03",
   "metadata": {},
   "outputs": [],
   "source": [
    "# Extract data end sort to dictionaries for later plots\n",
    "sub_reddit_dic = {}\n",
    "\n",
    "for i,row in enumerate(df.iterrows()):\n",
    "    data = row[1]\n",
    "    user_id = data['user_id']\n",
    "    documents = data['documents']\n",
    "    \n",
    "    for doc_id, text, date, sub_reddit, labels in documents:\n",
    "        if len(labels) > 0:\n",
    "            #print(labels)\n",
    "            if sub_reddit not in sub_reddit_dic:\n",
    "                sub_reddit_dic[sub_reddit] = {'politics': {'count': 0}, 'news': {'count': 0}}\n",
    "            for label in labels:\n",
    "                pol_bias = label[2][0]\n",
    "                news_bias = label[3]\n",
    "                if len(pol_bias) > 0:\n",
    "                    if not pol_bias in sub_reddit_dic[sub_reddit]['politics']:\n",
    "                        sub_reddit_dic[sub_reddit]['politics'][pol_bias] = 0\n",
    "                    sub_reddit_dic[sub_reddit]['politics'][pol_bias] += 1\n",
    "                    sub_reddit_dic[sub_reddit]['politics']['count'] += 1\n",
    "                if (len(news_bias) > 0):\n",
    "                    if not news_bias in sub_reddit_dic[sub_reddit]['news']:\n",
    "                        sub_reddit_dic[sub_reddit]['news'][news_bias] = 0\n",
    "                    sub_reddit_dic[sub_reddit]['news'][news_bias] += 1\n",
    "                    sub_reddit_dic[sub_reddit]['news']['count'] += 1\n",
    "                    \n",
    "theme_dic = {}\n",
    "\n",
    "for theme in theme_groups:\n",
    "    theme_dic[theme] = {'politics': {'count':0,'LEFT_CENTER':0,'LEFT':0,'LEAST_BIASED':0,'RIGHT_CENTER':0,'SATIRE':0,'PRO_SCIENCE':0,'RIGHT':0,'EXTREME_LEFT':0,'CONSPIRACY_PSEUDOSCIENCE':0,'EXTREME_RIGHT':0,'PRO_RUSSIAN_PROPAGANDA':0}, 'news': {'count':0,'HIGH':0,'VERY_HIGH':0,'MOSTLY_FACTUAL':0,'MIXED':0,'VERY_LOW':0,'LOW':0}}\n",
    "    for sub_reddit in theme_groups[theme]:\n",
    "        if sub_reddit not in sub_reddit_dic:\n",
    "            continue\n",
    "        for i in sub_reddit_dic[sub_reddit]['politics']:\n",
    "            theme_dic[theme]['politics'][i] += sub_reddit_dic[sub_reddit]['politics'][i]\n",
    "        for i in sub_reddit_dic[sub_reddit]['news']:\n",
    "            theme_dic[theme]['news'][i] += sub_reddit_dic[sub_reddit]['news'][i]"
   ]
  },
  {
   "cell_type": "code",
   "execution_count": null,
   "id": "2a5b0d70",
   "metadata": {},
   "outputs": [],
   "source": [
    "del df # Free up some RAM\n",
    "gc.collect();"
   ]
  },
  {
   "cell_type": "code",
   "execution_count": null,
   "id": "687dd131",
   "metadata": {},
   "outputs": [],
   "source": [
    "# Plot of news distribution in categories. Singel Plot\n",
    "plt.figure(figsize=(16,8))\n",
    "cmap = ['orangered', 'lime', 'aqua', 'violet', 'gold', 'grey', 'blue', 'darkmagenta']\n",
    "categories = ['VERY_HIGH','HIGH','MOSTLY_FACTUAL','MIXED','LOW','VERY_LOW']\n",
    "width = 1/len(theme_dic)\n",
    "max_y = 0\n",
    "for ind, theme in enumerate(theme_dic):\n",
    "    data = theme_dic[theme]['news']\n",
    "    n = data['count']\n",
    "    heights = [data[i]/n if i in data else 0 for i in categories]\n",
    "    if(max(heights) > max_y):\n",
    "            max_y = max(heights)\n",
    "    plt.bar(x = [i*3+ind*(1.5*width)-(1.5*width*(len(theme_dic)-1)/2) for i in range(len(categories))], height=heights, width=width, color=cmap[ind])\n",
    "plt.xticks([i*3 for i in range(len(categories))],categories)\n",
    "plt.legend(theme_dic)\n",
    "plt.ylabel(\"relative percentage\")\n",
    "plt.yticks([i/10 for i in range(min(11,int(max_y*10) + 2))], [str(i*10)+'%' for i in range(min(11,int(max_y*10) + 2))])\n",
    "plt.title(\"News bias in all groups\")\n",
    "plt.savefig(\"./overview/news.pdf\")\n",
    "plt.show()\n",
    "\n",
    "# Plot of political distribution in categories. Singel Plot\n",
    "plt.figure(figsize=(16,8))\n",
    "cmap = ['orangered', 'lime', 'aqua', 'violet', 'gold', 'grey', 'blue', 'darkmagenta']\n",
    "categories = ['EXTREME_LEFT','LEFT','LEFT_CENTER','LEAST_BIASED','RIGHT_CENTER','RIGHT','EXTREME_RIGHT','CONSPIRACY_PSEUDOSCIENCE','PRO_RUSSIAN_PROPAGANDA', 'PRO_SCIENCE']\n",
    "max_y = 0\n",
    "for ind, theme in enumerate(theme_dic):\n",
    "    data = theme_dic[theme]['politics']\n",
    "    n = data['count']\n",
    "    heights = [data[i]/n if i in data else 0 for i in categories]\n",
    "    if(max(heights) > max_y):\n",
    "            max_y = max(heights)\n",
    "    plt.bar(x = [i*3+ind*(1.5*width)-(1.5*width*(len(theme_dic)-1)/2) for i in range(len(categories))], height=heights, width=width, color=cmap[ind])\n",
    "plt.xticks([i*3 for i in range(len(categories))],[j if ind % 2 == 0 else \" \\n\"+j for ind,j in enumerate(categories)])\n",
    "plt.legend(theme_dic)\n",
    "plt.ylabel(\"relative percentage\")\n",
    "plt.yticks([i/10 for i in range(min(11,int(max_y*10) + 2))], [str(i*10)+'%' for i in range(min(11,int(max_y*10) + 2))])\n",
    "plt.title(\"Political bias in all groups\")\n",
    "plt.savefig(\"./overview/political.pdf\")\n",
    "plt.show()"
   ]
  },
  {
   "cell_type": "code",
   "execution_count": null,
   "id": "159fc9cc",
   "metadata": {},
   "outputs": [],
   "source": [
    "theme_dic['5G']"
   ]
  },
  {
   "cell_type": "code",
   "execution_count": null,
   "id": "bd6c534b",
   "metadata": {},
   "outputs": [],
   "source": [
    "# Each subreddit of a category\n",
    "\n",
    "cmap = ['orangered', 'darkmagenta', 'aqua', 'violet', 'gold', 'grey', 'blue', 'lime', 'steelblue', 'silver', 'deeppink', 'olivedrab']\n",
    "\n",
    "for group in theme_groups:\n",
    "    plt.figure(figsize=(16,8))\n",
    "    max_y = 0\n",
    "    for ind, sub_reddit in enumerate(theme_groups[group]):\n",
    "        if (sub_reddit not in sub_reddit_dic):\n",
    "            continue\n",
    "        data = sub_reddit_dic[sub_reddit]['politics']\n",
    "        categories = ['EXTREME_LEFT','LEFT','LEFT_CENTER','LEAST_BIASED','RIGHT_CENTER','RIGHT','EXTREME_RIGHT','CONSPIRACY_PSEUDOSCIENCE','PRO_RUSSIAN_PROPAGANDA','PRO_SCIENCE']\n",
    "        n = data['count']\n",
    "        width = 1/len(theme_groups[group])\n",
    "        heights = [data[i]/n if i in data else 0 for i in categories]\n",
    "        if(max(heights) > max_y):\n",
    "            max_y = max(heights)\n",
    "        plt.bar(x = [i*3+ind*(1.5*width)-(1.5*width*(len(theme_groups[group])-1)/2) for i in range(len(categories))], height=heights, width=width, color=cmap[ind])\n",
    "    plt.xticks([i*3 for i in range(len(categories))],[j if ind % 2 == 0 else \" \\n\"+j for ind,j in enumerate(categories)])\n",
    "    plt.legend(theme_groups[group])\n",
    "    plt.title(\"Political tendencies for sub-reddits in group: \" + group, fontsize=20)\n",
    "    plt.ylabel(\"relative percentage\", fontsize=16)\n",
    "    plt.yticks([i/10 for i in range(min(11,int(max_y*10) + 2))], [str(i*10)+'%' for i in range(min(11,int(max_y*10) + 2))])\n",
    "    plt.savefig(\"./categories/\" + group + \".pdf\")\n",
    "    plt.show()"
   ]
  }
 ],
 "metadata": {
  "kernelspec": {
   "display_name": "Python 3 (ipykernel)",
   "language": "python",
   "name": "python3"
  },
  "language_info": {
   "codemirror_mode": {
    "name": "ipython",
    "version": 3
   },
   "file_extension": ".py",
   "mimetype": "text/x-python",
   "name": "python",
   "nbconvert_exporter": "python",
   "pygments_lexer": "ipython3",
   "version": "3.10.0"
  }
 },
 "nbformat": 4,
 "nbformat_minor": 5
}
