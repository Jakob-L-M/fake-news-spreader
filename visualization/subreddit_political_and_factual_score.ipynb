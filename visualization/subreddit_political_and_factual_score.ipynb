{
 "cells": [
  {
   "cell_type": "code",
   "execution_count": null,
   "id": "514a0cc5",
   "metadata": {},
   "outputs": [],
   "source": [
    "import pandas as pd\n",
    "import matplotlib.pyplot as plt"
   ]
  },
  {
   "cell_type": "code",
   "execution_count": null,
   "id": "d87fcac1",
   "metadata": {},
   "outputs": [],
   "source": [
    "# data\n",
    "df = pd.read_pickle('../data/reddit_corpus_balanced_filtered.gzip', compression='gzip')"
   ]
  },
  {
   "cell_type": "code",
   "execution_count": null,
   "id": "d1389ab8",
   "metadata": {},
   "outputs": [],
   "source": [
    "theme_groups = {}\n",
    "theme_groups['SARS-CoV-2'] = ['r/CovidVaccinated', 'r/Masks4All', 'r/NoLockdownsNoMasks', 'r/EndTheLockdowns', 'r/COVID19', 'r/COVID19positive', 'r/CoronavirusCanada', 'r/CoronavirusRecession', 'r/CoronavirusUK', 'r/CoronavirusUS', 'r/Coronavirus', 'r/LockdownSkepticism']\n",
    "theme_groups['Vaccines'] = ['r/CovidVaccinated', 'r/VACCINES', 'r/vaxxhappened', 'r/AntiVaxxers', 'r/antivax', 'r/TrueAntiVaccination', 'r/DebateVaccine', 'r/DebateVaccines']\n",
    "theme_groups['Abortion'] = ['r/AskProchoice', 'r/prochoice', 'r/insaneprolife', 'r/prolife', 'r/ProLifeLibertarians', 'r/Abortiondebate', 'r/abortion']\n",
    "theme_groups['womens-and-mens-rights'] = ['r/Feminism', 'r/feminisms', 'r/RadicalFeminism', 'r/RadicalFeminismUSA', 'r/MRActivism', 'r/MensRights', 'r/antifeminists', 'r/feminismformen', 'r/masculism', 'r/GenderCritical', 'r/Egalitarianism']\n",
    "theme_groups['Gun-control'] = ['r/Firearms', 'r/GunsAreCool', 'r/liberalgunowners', 'r/progun', 'r/guncontrol', 'r/GunDebates', 'r/GunResearch', 'r/gunpolitics']\n",
    "theme_groups['Climate-change'] = ['r/climateskeptics', 'r/GlobalClimateChange', 'r/climate', 'r/climatechange']\n",
    "theme_groups['5G'] = ['r/5GDebate']\n",
    "theme_groups['general-political-debate'] = ['r/JoeBiden', 'r/LeftistsForMen', 'r/Liberal', 'r/LockdownCriticalLeft', 'r/democrats', 'r/Conservative', 'r/ConservativesOnly', 'r/conservatives', 'r/Republican', 'r/RepublicanValues', 'r/politics', 'r/uspolitics']"
   ]
  },
  {
   "cell_type": "code",
   "execution_count": null,
   "id": "345e6c33",
   "metadata": {},
   "outputs": [],
   "source": [
    "map_biases = {'': None,\n",
    " 'LEFT_CENTER': -0.5,\n",
    " 'RIGHT': 1,\n",
    " 'EXTREME_RIGHT': 1.5,\n",
    " 'LEFT': -1,\n",
    " 'RIGHT_CENTER': 0.5,\n",
    " 'PRO_SCIENCE': 1,\n",
    " 'CONSPIRACY_PSEUDOSCIENCE': -1,\n",
    " 'SATIRE': None,\n",
    " 'PRO_RUSSIAN_PROPAGANDA': None,\n",
    " 'LEAST_BIASED': 0,\n",
    " 'EXTREME_LEFT': -1.5}\n",
    "# Why is PRO_SCIENCE mapped to 1 and Pseudoscience to -1?\n",
    "# If there are a lot a pro science posts there wouldnt be a differnce to a lot of right biased posts\n",
    "\n",
    "political_bias = ['LEFT_CENTER',\n",
    " 'RIGHT',\n",
    " 'EXTREME_RIGHT',\n",
    " 'LEFT',\n",
    " 'RIGHT_CENTER',\n",
    " 'LEAST_BIASED',\n",
    " 'EXTREME_LEFT']\n",
    "\n",
    "science_bias = ['PRO_SCIENCE',\n",
    " 'CONSPIRACY_PSEUDOSCIENCE']\n",
    "\n",
    "other_bias = ['', 'SATIRE',\n",
    " 'PRO_RUSSIAN_PROPAGANDA']\n",
    "\n",
    "map_factual = {'VERY_LOW': -1.5, 'LOW': -1, 'MOSTLY_FACTUAL': 0.5, 'VERY_HIGH': 1.5, 'HIGH': 1, 'MIXED': -0.5}"
   ]
  },
  {
   "cell_type": "code",
   "execution_count": null,
   "id": "4ae6aa26",
   "metadata": {},
   "outputs": [],
   "source": [
    "# Build bias counter\n",
    "bias_counter = {}\n",
    "factual_counter = {}\n",
    "\n",
    "for row in df.iterrows():\n",
    "    data = row[1]\n",
    "    documents = data['documents']\n",
    "    \n",
    "    for doc_id, text, date, sub_reddit, labels in documents:\n",
    "        if len(labels) > 0:\n",
    "            #print(labels)\n",
    "            if sub_reddit not in bias_counter:\n",
    "                bias_counter[sub_reddit] = {'sum':0,'LEFT_CENTER':0,'LEFT':0,'LEAST_BIASED':0,'RIGHT_CENTER':0,'RIGHT':0,'EXTREME_LEFT':0,'EXTREME_RIGHT':0}\n",
    "                factual_counter[sub_reddit] =  {'sum':0,'HIGH':0,'VERY_HIGH':0,'MOSTLY_FACTUAL':0,'MIXED':0,'VERY_LOW':0,'LOW':0}\n",
    "            for label in labels:\n",
    "                pol_bias = label[2][0]\n",
    "                fact_bias = label[3]\n",
    "                if len(pol_bias) > 0 and pol_bias in political_bias:\n",
    "                    bias_counter[sub_reddit][pol_bias] += 1\n",
    "                    bias_counter[sub_reddit]['sum'] += 1\n",
    "                if len(fact_bias) > 0:\n",
    "                    factual_counter[sub_reddit][fact_bias] += 1\n",
    "                    factual_counter[sub_reddit]['sum'] += 1\n",
    "        "
   ]
  },
  {
   "cell_type": "code",
   "execution_count": null,
   "id": "db1227a9",
   "metadata": {},
   "outputs": [],
   "source": [
    "political_factors = {}\n",
    "factual_factors = {}\n",
    "\n",
    "for group in theme_groups:\n",
    "    for i in theme_groups[group]:\n",
    "        if i not in bias_counter:\n",
    "            continue \n",
    "        x = bias_counter[i]\n",
    "        y = factual_counter[i]\n",
    "        try:\n",
    "            pb_factor = sum([x[key]*map_biases[key] \n",
    "              for key in x.keys() if key in political_bias])/x['sum']\n",
    "        except ZeroDivisionError:\n",
    "            pb_factor = None\n",
    "\n",
    "        try:\n",
    "            factual_factor = sum([y[key]*map_factual[key] \n",
    "              for key in y.keys() if key!='sum'])/y['sum']\n",
    "        except ZeroDivisionError:\n",
    "            factual_factor = None\n",
    "\n",
    "        political_factors[i] = pb_factor\n",
    "        factual_factors[i] = factual_factor"
   ]
  },
  {
   "cell_type": "code",
   "execution_count": null,
   "id": "27a17cc6",
   "metadata": {},
   "outputs": [],
   "source": [
    "print(political_factors)\n",
    "print(factual_factors)"
   ]
  },
  {
   "cell_type": "code",
   "execution_count": null,
   "id": "3bd64bca",
   "metadata": {},
   "outputs": [],
   "source": [
    "cmap = ['orangered', 'darkmagenta', 'aqua', 'violet', 'gold', 'grey', 'blue', 'lime', 'steelblue', 'silver', 'deeppink', 'olivedrab']\n",
    "\n",
    "# plt.figure(figsize=(10,10))\n",
    "for group in theme_groups:\n",
    "    plt.figure(figsize=(10,10))\n",
    "    for ind, sub in enumerate(theme_groups[group]):\n",
    "        if sub not in political_factors:\n",
    "            continue\n",
    "        plt.scatter(political_factors[sub], factual_factors[sub], color=cmap[ind], marker='x', linewidths=3)\n",
    "    plt.yticks([-1.5,-1,-0.5,0,0.5,1,1.5],['VERY LOW', 'LOW', 'MIXED', 'UNBIASED', 'MOSTLY FACTUAL', 'HIGH', 'VERY HIGH'])\n",
    "    plt.xticks([-1.5,-1,-0.5,0,0.5,1,1.5],['EXTREME LEFT','LEFT','LEFT CENTER','LEAST BIASED','RIGHT CENTER','RIGHT','EXTREME RIGHT']);\n",
    "    plt.xlim(-1.6, 1.6)\n",
    "    plt.ylim(-1.6, 1.6)\n",
    "    plt.legend(theme_groups[group]);\n",
    "    plt.savefig('./categories/' + group + '_pol_and_fac_bias.pdf')\n",
    "    plt.show();"
   ]
  }
 ],
 "metadata": {
  "kernelspec": {
   "display_name": "Python 3 (ipykernel)",
   "language": "python",
   "name": "python3"
  },
  "language_info": {
   "codemirror_mode": {
    "name": "ipython",
    "version": 3
   },
   "file_extension": ".py",
   "mimetype": "text/x-python",
   "name": "python",
   "nbconvert_exporter": "python",
   "pygments_lexer": "ipython3",
   "version": "3.10.0"
  }
 },
 "nbformat": 4,
 "nbformat_minor": 5
}
