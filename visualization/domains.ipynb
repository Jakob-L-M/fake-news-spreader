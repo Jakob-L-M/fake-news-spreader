{
 "cells": [
  {
   "cell_type": "code",
   "execution_count": null,
   "metadata": {},
   "outputs": [],
   "source": [
    "import pandas as pd\n",
    "import matplotlib.pyplot as plt"
   ]
  },
  {
   "cell_type": "code",
   "execution_count": null,
   "metadata": {},
   "outputs": [],
   "source": [
    "df = pd.read_pickle('../data/reddit_corpus_balanced_filtered.gzip', compression='gzip')\n",
    "df"
   ]
  },
  {
   "cell_type": "code",
   "execution_count": null,
   "metadata": {},
   "outputs": [],
   "source": [
    "domain_dic = {'politics': {'count':0,'LEFT_CENTER':[],'LEFT':[],'LEAST_BIASED':[],'RIGHT_CENTER':[],'SATIRE':[],'PRO_SCIENCE':[],'RIGHT':[],'EXTREME_LEFT':[],'CONSPIRACY_PSEUDOSCIENCE':[],'EXTREME_RIGHT':[],'PRO_RUSSIAN_PROPAGANDA':[]}, 'news': {'count':0,'HIGH':[],'VERY_HIGH':[],'MOSTLY_FACTUAL':[],'MIXED':[],'VERY_LOW':[],'LOW':[]}}\n",
    "right_dic = {'count':0,'HIGH':[],'VERY_HIGH':[],'MOSTLY_FACTUAL':[],'MIXED':[],'VERY_LOW':[],'LOW':[]}\n",
    "left_dic = {'count':0,'HIGH':[],'VERY_HIGH':[],'MOSTLY_FACTUAL':[],'MIXED':[],'VERY_LOW':[],'LOW':[]}\n",
    "\n",
    "seen_domains = set()\n",
    "\n",
    "for row in df.iterrows():\n",
    "    data = row[1]\n",
    "    documents = data['documents']\n",
    "    \n",
    "    for doc_id, text, date, sub_reddit, labels in documents:\n",
    "        for label in labels:\n",
    "            domain = label[0]\n",
    "            if domain in seen_domains:\n",
    "                continue\n",
    "            pol_bias = label[2]\n",
    "            news_bias = label[3]\n",
    "            for p_bias in pol_bias:\n",
    "                if p_bias != '':\n",
    "                    domain_dic['politics'][p_bias].append(domain)\n",
    "                    domain_dic['politics']['count'] += 1\n",
    "                if p_bias == 'RIGHT_CENTER' or p_bias == 'RIGHT' or p_bias == 'EXTREME_RIGHT':\n",
    "                    if news_bias != '':\n",
    "                        right_dic[news_bias].append(domain)\n",
    "                        right_dic['count'] += 1\n",
    "                if p_bias == 'LEFT_CENTER' or p_bias == 'LEFT' or p_bias == 'EXTREME_LEFT':\n",
    "                    if news_bias != '':\n",
    "                        left_dic[news_bias].append(domain)\n",
    "                        left_dic['count'] += 1\n",
    "            if news_bias != '':\n",
    "                domain_dic['news'][news_bias].append(domain)\n",
    "                domain_dic['news']['count'] += 1\n",
    "            seen_domains.add(domain)\n",
    "right_dic"
   ]
  },
  {
   "cell_type": "code",
   "execution_count": null,
   "metadata": {},
   "outputs": [],
   "source": [
    "plt.figure(figsize=(10,6))\n",
    "categories = ['VERY_HIGH','HIGH','MOSTLY_FACTUAL','MIXED','LOW','VERY_LOW']\n",
    "width = 1/3\n",
    "max_y = 0\n",
    "for ind, data in enumerate([domain_dic['news'], left_dic, right_dic]):\n",
    "    \n",
    "    n = data['count']\n",
    "    heights = [len(data[i]) if i in data else 0 for i in categories]\n",
    "    plt.bar(x = [i*3 - 1/2*ind*(-0.5 if ind == 2 else 1) for i in range(len(categories))], height=heights, width=width)\n",
    "\n",
    "plt.xticks([i*3 for i in range(len(categories))],categories)\n",
    "plt.xticks([i*3 for i in range(len(categories))],categories)\n",
    "plt.ylabel(\"Number of domains\")\n",
    "plt.title(\"Factual Factor of Domains\")\n",
    "plt.legend(['Any political bias', 'Left political bias', 'Right political bias'])\n",
    "plt.savefig('overview/domains_fact.pdf')\n",
    "plt.show()\n",
    "\n",
    "# Plot of political distribution in categories. Singel Plot\n",
    "plt.figure(figsize=(10,6))\n",
    "categories = ['EXTREME_LEFT','LEFT','LEFT_CENTER','LEAST_BIASED','RIGHT_CENTER','RIGHT','EXTREME_RIGHT']# ,'CONSPIRACY_PSEUDOSCIENCE','PRO_RUSSIAN_PROPAGANDA', 'PRO_SCIENCE']\n",
    "max_y = 0\n",
    "data = domain_dic['politics']\n",
    "n = data['count']\n",
    "heights = [len(data[i]) if i in data else 0 for i in categories]\n",
    "if(max(heights) > max_y):\n",
    "        max_y = max(heights)\n",
    "plt.bar(x = [i*3 for i in range(len(categories))], height=heights, width=width)\n",
    "plt.xticks([i*3 for i in range(len(categories))],categories)\n",
    "plt.ylabel(\"Number of domains\")\n",
    "plt.title(\"Political bias of domains\")\n",
    "plt.savefig('overview/domains_pol.pdf')\n",
    "plt.show()"
   ]
  }
 ],
 "metadata": {
  "kernelspec": {
   "display_name": "Python 3",
   "language": "python",
   "name": "python3"
  },
  "language_info": {
   "codemirror_mode": {
    "name": "ipython",
    "version": 3
   },
   "file_extension": ".py",
   "mimetype": "text/x-python",
   "name": "python",
   "nbconvert_exporter": "python",
   "pygments_lexer": "ipython3",
   "version": "3.8.6"
  }
 },
 "nbformat": 4,
 "nbformat_minor": 4
}
