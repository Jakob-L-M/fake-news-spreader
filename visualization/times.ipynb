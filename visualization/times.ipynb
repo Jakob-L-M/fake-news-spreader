{
 "cells": [
  {
   "cell_type": "code",
   "execution_count": null,
   "id": "ff6a5c0d",
   "metadata": {},
   "outputs": [],
   "source": [
    "import pandas as pd\n",
    "import numpy as np\n",
    "import matplotlib.pyplot as plt\n",
    "import datetime\n",
    "from tqdm import tqdm"
   ]
  },
  {
   "cell_type": "code",
   "execution_count": null,
   "id": "c5ba4612",
   "metadata": {},
   "outputs": [],
   "source": [
    "df = pd.read_pickle('../data/reddit_corpus_balanced_filtered.gzip', compression='gzip')"
   ]
  },
  {
   "cell_type": "code",
   "execution_count": null,
   "id": "a9a39a73",
   "metadata": {},
   "outputs": [],
   "source": [
    "dates = []\n",
    "\n",
    "for row in tqdm(df.iterrows(), total=len(df)):\n",
    "    data = row[1]\n",
    "    documents = data['documents']\n",
    "    \n",
    "    for doc_id, text, date, sub_reddit, labels in documents:\n",
    "        dates.append(date)\n",
    "\n",
    "times = np.array(sorted(dates))"
   ]
  },
  {
   "cell_type": "code",
   "execution_count": null,
   "id": "86516f30",
   "metadata": {},
   "outputs": [],
   "source": [
    "dr = pd.date_range(start='2010-01-01', end='2021-06-05', freq='W')\n",
    "dr"
   ]
  },
  {
   "cell_type": "code",
   "execution_count": null,
   "id": "b5028533",
   "metadata": {},
   "outputs": [],
   "source": [
    "x_axis = [dr[i] for i in range(len(dr))]\n",
    "\n",
    "y_axis = []\n",
    "y_sum = 0\n",
    "y_axis.append(sum(times < dr[0]))\n",
    "y_sum += len(y_axis)\n",
    "for ind in tqdm(range(1, len(dr))):\n",
    "    c = 0\n",
    "    for t in range(y_sum + 1, len(times)):\n",
    "        if times[t] > dr[ind]:\n",
    "            break\n",
    "        else:\n",
    "            c += 1\n",
    "    y_axis.append(c)\n",
    "    y_sum += c"
   ]
  },
  {
   "cell_type": "code",
   "execution_count": null,
   "id": "4034f697",
   "metadata": {},
   "outputs": [],
   "source": [
    "plt.plot(x_axis, y_axis)\n",
    "plt.ylabel('Number of Posts')\n",
    "plt.title('Distrbution of posts over time')\n",
    "plt.savefig('overview/time_dist.pdf')\n",
    "plt.show();\n",
    "\n",
    "plt.plot(x_axis, y_axis)\n",
    "plt.ylabel('Number of Posts')\n",
    "plt.title('Distribution of posts over time')\n",
    "plt.xlim([datetime.date(2017,11,1), datetime.date(2021,6,1)])\n",
    "plt.xticks([datetime.date(2018,1,1),datetime.date(2018,7,1),datetime.date(2019,1,1),datetime.date(2019,7,1)\n",
    "            ,datetime.date(2020,1,1),datetime.date(2020,7,1),datetime.date(2021,1,1)]\n",
    "           ,['2018-01', '2018-07', '2019-01', '2019-07', '2020-01', '2020-07', '2021-01'])\n",
    "plt.savefig('overview/time_dist_cutted.pdf')\n",
    "plt.show();"
   ]
  }
 ],
 "metadata": {
  "kernelspec": {
   "display_name": "py3.8",
   "language": "python",
   "name": "py3.8"
  },
  "language_info": {
   "codemirror_mode": {
    "name": "ipython",
    "version": 3
   },
   "file_extension": ".py",
   "mimetype": "text/x-python",
   "name": "python",
   "nbconvert_exporter": "python",
   "pygments_lexer": "ipython3",
   "version": "3.8.6"
  }
 },
 "nbformat": 4,
 "nbformat_minor": 5
}
