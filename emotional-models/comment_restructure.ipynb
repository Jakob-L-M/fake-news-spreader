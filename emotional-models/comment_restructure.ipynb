{
 "cells": [
  {
   "cell_type": "code",
   "execution_count": null,
   "id": "58c980c2",
   "metadata": {},
   "outputs": [],
   "source": [
    "import pandas as pd\n",
    "import numpy as np\n",
    "from tqdm import tqdm\n",
    "from math import log\n",
    "import matplotlib.pyplot as plt\n",
    "import ast"
   ]
  },
  {
   "cell_type": "code",
   "execution_count": null,
   "id": "d47059f4",
   "metadata": {},
   "outputs": [],
   "source": [
    "df = pd.read_csv('main_comments.csv')"
   ]
  },
  {
   "cell_type": "code",
   "execution_count": null,
   "id": "a11c8fc4",
   "metadata": {},
   "outputs": [],
   "source": [
    "comment_frame = pd.DataFrame(columns=['doc_id', 'comment_id', 'text'])\n",
    "for r in tqdm(df.iterrows(), total=len(df)):\n",
    "    d = r[1]\n",
    "    doc_id = d['doc_id']\n",
    "    \n",
    "    if d['comments'] == 'Empty':\n",
    "        continue\n",
    "    # com = ast.literal_eval(d['comments'])\n",
    "    try:\n",
    "        com = ast.literal_eval(d['comments'])\n",
    "    except ValueError:\n",
    "        print(d['comments'])\n",
    "        break\n",
    "    for comment_id in com:\n",
    "        text = com[comment_id]\n",
    "        comment_frame = comment_frame.append({'doc_id': doc_id, 'text': text, 'comment_id': comment_id}, ignore_index=True)\n",
    "# comment_frame"
   ]
  },
  {
   "cell_type": "code",
   "execution_count": null,
   "id": "c3689370",
   "metadata": {},
   "outputs": [],
   "source": [
    "sizes = []\n",
    "for r in tqdm(df.iterrows(), total=len(df)):\n",
    "    d = r[1]\n",
    "    doc_id = d['doc_id']\n",
    "    \n",
    "    if d['comments'] == 'Empty':\n",
    "        sizes.append(0)\n",
    "        continue\n",
    "    com = ast.literal_eval(d['comments'])\n",
    "    sizes.append(len(com))\n",
    "# sizes"
   ]
  },
  {
   "cell_type": "code",
   "execution_count": null,
   "id": "544be1d3",
   "metadata": {},
   "outputs": [],
   "source": [
    "x, y = np.unique(sizes, return_counts=True)"
   ]
  },
  {
   "cell_type": "code",
   "execution_count": null,
   "id": "a5070215",
   "metadata": {},
   "outputs": [],
   "source": [
    "plt.grid(True, axis='y')\n",
    "for i in range(len(x)):\n",
    "    plt.bar(x=x[i], height=y[i], color='#563091', alpha=0.5+0.5*log(y[i])/log(y[0]), width=0.65)\n",
    "plt.yscale('log')\n",
    "plt.title('Comment distribution')\n",
    "plt.ylabel('Frequency')\n",
    "plt.xlabel('Number of Comments')\n",
    "plt.savefig('Comment_dist.pdf');"
   ]
  }
 ],
 "metadata": {
  "kernelspec": {
   "display_name": "py3.8",
   "language": "python",
   "name": "py3.8"
  },
  "language_info": {
   "codemirror_mode": {
    "name": "ipython",
    "version": 3
   },
   "file_extension": ".py",
   "mimetype": "text/x-python",
   "name": "python",
   "nbconvert_exporter": "python",
   "pygments_lexer": "ipython3",
   "version": "3.8.6"
  }
 },
 "nbformat": 4,
 "nbformat_minor": 5
}
