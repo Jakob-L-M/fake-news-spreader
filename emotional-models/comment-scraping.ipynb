{
 "cells": [
  {
   "cell_type": "code",
   "execution_count": null,
   "id": "7620b8f8",
   "metadata": {},
   "outputs": [],
   "source": [
    "import pandas as pd\n",
    "from tqdm import tqdm\n",
    "import ast"
   ]
  },
  {
   "cell_type": "code",
   "execution_count": null,
   "id": "9b09e6b9",
   "metadata": {},
   "outputs": [],
   "source": [
    "com = pd.read_csv('main_comments.csv')\n",
    "main_df = pd.read_pickle('../data/reddit_corpus_balanced_filtered.gzip', compression='gzip')"
   ]
  },
  {
   "cell_type": "code",
   "execution_count": null,
   "id": "888f7e9c",
   "metadata": {},
   "outputs": [],
   "source": [
    "df = pd.DataFrame(columns=['user_id', 'doc_id', 'text', 'fn', 'annotations', 'comments'])\n",
    "doc_ids = set(com['doc_id'])\n",
    "for r in tqdm(main_df.iterrows(), total=len(main_df)):\n",
    "    d = r[1]\n",
    "    for doc in d['documents']:\n",
    "        if len(doc[4]) > 0:\n",
    "            temp = {'user_id': d['user_id'], 'doc_id': doc[0], 'text': doc[1],\n",
    "                    'annotations':doc[4], 'comments': {},\n",
    "                   'fn': int(max(i[1] for i in doc[4]))}\n",
    "            \n",
    "            c = com[com['doc_id'] == doc[0]]\n",
    "            \n",
    "            # Find post from factroid dataset in comments, skip if not in comments\n",
    "            if len(c) == 1:\n",
    "                c = c.iloc[0, :]\n",
    "            else:\n",
    "                continue\n",
    "            \n",
    "            if c['comments'] == 'Empty':\n",
    "                pass\n",
    "            else:\n",
    "                temp['comments'] = ast.literal_eval(c['comments'])\n",
    "                    \n",
    "            df = df.append(temp, ignore_index=True)\n",
    "\n",
    "df"
   ]
  },
  {
   "cell_type": "code",
   "execution_count": null,
   "id": "7f23493a",
   "metadata": {},
   "outputs": [],
   "source": [
    "df.to_pickle('factroid_with_comments.pkl')"
   ]
  },
  {
   "cell_type": "code",
   "execution_count": null,
   "id": "b86503ee",
   "metadata": {},
   "outputs": [],
   "source": [
    "# Save csv from which to calc nvidia emotions\n",
    "\n",
    "main = df.iloc[:,:3]\n",
    "main.to_csv('main_posts_78387.csv')"
   ]
  },
  {
   "cell_type": "code",
   "execution_count": null,
   "id": "77c94d5d",
   "metadata": {},
   "outputs": [],
   "source": [
    "comments = []\n",
    "for com in tqdm(df['comments']):\n",
    "    for c in com:\n",
    "        comments.append({'id': c, 'text': com[c]})\n",
    "        \n",
    "comments = pd.DataFrame(data=comments, columns=['id', 'text'])\n",
    "comments.to_csv('comments_on_posts_101390')"
   ]
  }
 ],
 "metadata": {
  "kernelspec": {
   "display_name": "py3.8",
   "language": "python",
   "name": "py3.8"
  },
  "language_info": {
   "codemirror_mode": {
    "name": "ipython",
    "version": 3
   },
   "file_extension": ".py",
   "mimetype": "text/x-python",
   "name": "python",
   "nbconvert_exporter": "python",
   "pygments_lexer": "ipython3",
   "version": "3.8.6"
  }
 },
 "nbformat": 4,
 "nbformat_minor": 5
}
