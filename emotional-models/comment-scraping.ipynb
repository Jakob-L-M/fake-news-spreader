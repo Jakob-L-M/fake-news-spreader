{
 "cells": [
  {
   "cell_type": "markdown",
   "id": "0962ef38",
   "metadata": {},
   "source": [
    "We can use the reddit api to get the post located in df['documents'] by querying\n",
    "```\n",
    "https://api.reddit.com/api/info/?id=t1_POTS-ID\n",
    "```\n",
    "t1 states that we are looking for a comment rather that a thread. If that does not return any data, we should check if the post might be a t3 (thread) post\n",
    "```\n",
    "https://api.reddit.com/api/info/?id=t3_POTS-ID\n",
    "```\n",
    "\n",
    "Most post are t1 posts. The resulting json contains a filed\n",
    "```\n",
    "[0]['data']['children'][0]['permalink']\n",
    "```\n",
    "that link will look something like this:\n",
    "```\n",
    "/r/politics/comments/7ujcb1/the_nunes_fiasco_grows_more_preposterous_by_the/dtktq8b/\n",
    "```\n",
    "Here `dtktq8b` is the (t1) post id found in the factroid dataset and `7ujcb1` is the (t3) thread id that we need to find replies to our (t1) post\n",
    "\n",
    "```\n",
    "https://www.reddit.com/r/politics/comments/7ujcb1/the_nunes_fiasco_grows_more_preposterous_by_the/dtktq8b.json\n",
    "```\n",
    "\n",
    "is a json file with all comments. They are located at\n",
    "```\n",
    "[1]['data']['children'][0]['data']['replies']\n",
    "```\n",
    "each replie is another (t1) post with the same structure"
   ]
  }
 ],
 "metadata": {
  "kernelspec": {
   "display_name": "py3.8",
   "language": "python",
   "name": "py3.8"
  },
  "language_info": {
   "codemirror_mode": {
    "name": "ipython",
    "version": 3
   },
   "file_extension": ".py",
   "mimetype": "text/x-python",
   "name": "python",
   "nbconvert_exporter": "python",
   "pygments_lexer": "ipython3",
   "version": "3.8.6"
  }
 },
 "nbformat": 4,
 "nbformat_minor": 5
}
